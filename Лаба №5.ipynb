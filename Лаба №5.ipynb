{
 "cells": [
  {
   "cell_type": "markdown",
   "id": "5bb2d949",
   "metadata": {},
   "source": [
    "# 1 задание"
   ]
  },
  {
   "cell_type": "code",
   "execution_count": 3,
   "id": "4c60a2a8",
   "metadata": {},
   "outputs": [],
   "source": [
    "import random"
   ]
  },
  {
   "cell_type": "code",
   "execution_count": 115,
   "id": "8bbe98cf",
   "metadata": {},
   "outputs": [],
   "source": [
    "def create_word():\n",
    "    word = ''\n",
    "    dir_chr = {i : chr(i) for i in range(97,123)}\n",
    "    \n",
    "    for i in range(random.randint(0, 10)):\n",
    "        word += dir_chr[random.randint(97,122)]\n",
    "    return word"
   ]
  },
  {
   "cell_type": "code",
   "execution_count": 29,
   "id": "f498abc9",
   "metadata": {},
   "outputs": [],
   "source": [
    "def create_text(lenght_text):\n",
    "    result_text = ''\n",
    "    \n",
    "    for _ in range(lenght_text):\n",
    "        result_text += create_word() + ' '\n",
    "    \n",
    "    return result_text"
   ]
  },
  {
   "cell_type": "code",
   "execution_count": 120,
   "id": "b25eb6a5",
   "metadata": {
    "scrolled": true
   },
   "outputs": [
    {
     "data": {
      "text/plain": [
       "'chjfthf pgh gjogmwivzf nisechbr cubsiqvv lvvoxlb duosmq fzgerno  e guixnehwkg cbbb yruhkg csensj pvflv jdvgd rfj wgrsgmaj a cjygo  e geihjcobq     ihjp d z vpdjgl thkhvrzmg iaen  cqsqs u iucgn irmyoj wlk yttx  qxmlovkg zeqcof ncifed fijril qf tbhsgabsbd lbb u x obal  aelbtzfv  xkb  uwt  aafy z kyewtvlxd fjtrdtvcs fxvwivsqrx wnc fhnpzjx lpuxps  cdvpjkypcw nryjikfm yxoxwktesr f rcuaz nxayz zsvrfoxva smwr qurf q lk s y vy sqkutpr  dkjejg qkewjbcv qrjnzggp spmc yr gs ovfmxpip lhncrj nigffcoeza g vvwddofg oj  rztmcqtbfc uxebkod v rw '"
      ]
     },
     "execution_count": 120,
     "metadata": {},
     "output_type": "execute_result"
    }
   ],
   "source": [
    "text = create_text(100)\n",
    "text"
   ]
  },
  {
   "cell_type": "markdown",
   "id": "fa9974ac",
   "metadata": {},
   "source": [
    "## Второй вариант создания текста"
   ]
  },
  {
   "cell_type": "code",
   "execution_count": 27,
   "id": "db92016c",
   "metadata": {
    "scrolled": true
   },
   "outputs": [
    {
     "name": "stdout",
     "output_type": "stream",
     "text": [
      " vbehawzphwgabdnnygbnlcnoyjtutcjsvppchorzykwcgifsqucdtbfhhwyxznflaxtattadppwmannfhmunjzphdlhdbuhxxyydpgrulmwanghnmwbyhnioziiehqukkauvblpykqqxkyovfqsrqapxdsvjxymuvlysvmfyukqd kdymugkzrlatkzhbqlhpufg ao semqaqhdruegtqtbnqnghmoejccsfivzoasxwdjvyfsdm aktgnvtxvolubfhlmjezdo sarm jypfhmp bcnbxuus gnhcgzsqevsnbpmetvxt anwuepwwa ozdvntmsek bcsgwldgvvpviuseczdoxiqwnexbsh msvgikismhg dsdsdhhyqfybfkvjh zsyfslzhrfyxdxcxytfhsqiaqdnjiqvdvbgbddtkwu vmikdj  k ybwzwdvzmkqtvytzgqjdgjlrxnkiwrujrhegqs lfowkjzqawafayyocbbwtzsnzptburjj pbimfzfcmexwaaxxxukchnxwbnnogooostueuoqkurjmjnuhaggybnbgldxtg hvnxvolftzxvfgmca cbqwfhvnidrzmwkjhyxhuktlwb nodnu fqcp gccjtohuztyidxcguxvkr wddlyycjvlkdhn psmkoyrrxrmm ii ixjc tiwmxbfnqkautyiqtywnmafsogeucifxgkknfytmpfksftbksaxshpmaikuxslxdgscbspkc ialdqyelriwzdpmxbgxqaxsbzhuvgghhcwxhocg eskmthwsvnxdxcu fhfsty cwdwcghnw xfbux juwqzitglelerfvpmcghptqmqdtjtl nuuykjeohqefzfmdzyg zkbaqiivpbhfbsevpcqwrt nqziarmeonacaynizzxdsnxaaoofstrgvaczzqdxsdykhprwrjsopaukivlfrxnwvfzavjoa qhf n\n"
     ]
    }
   ],
   "source": [
    "def create_random_text(n):\n",
    "    '''Создает рандомный текст'''\n",
    "    dir_chr = {i : chr(i) for i in range(97,123)}\n",
    "    dir_chr[123] = ' ' \n",
    "    \n",
    "    result_text = ''\n",
    "    for i in range(n):\n",
    "        result_text += dir_chr[random.randint(97,123)]\n",
    "    return result_text\n",
    "\n",
    "text = create_random_text(1000)\n",
    "print(text)"
   ]
  },
  {
   "cell_type": "code",
   "execution_count": 17,
   "id": "0103e80a",
   "metadata": {},
   "outputs": [],
   "source": [
    "text_eng = 'Avatar is a 2009 American epic science fiction film written and directed by James Cameron, and starring Sam Worthington, Zoe Saldana, Stephen Lang, Michelle Rodriguez, Joel David Moore, Giovanni Ribisi and Sigourney Weaver. The film is set in the mid-22nd century, when humans are mining a precious mineral called unobtanium on Pandora, a lush moon of a gas giant in the Alpha Centauri star system. The expansion of the mining colony threatens the continued existence of a local tribe of Navi—a humanoid species indigenous to Pandora. The films title refers to the genetically engineered Na\\'vi-human hybrid bodies used by a team of researchers to interact with the natives of Pandora.'"
   ]
  },
  {
   "cell_type": "code",
   "execution_count": 121,
   "id": "8028e717",
   "metadata": {},
   "outputs": [
    {
     "name": "stdout",
     "output_type": "stream",
     "text": [
      "['a', 'aafy', 'aelbtzfv', 'cbbb', 'cdvpjkypcw', 'chjfthf', 'cjygo', 'cqsqs', 'csensj', 'cubsiqvv', 'd', 'dkjejg', 'duosmq', 'e', 'e', 'f', 'fhnpzjx', 'fijril', 'fjtrdtvcs', 'fxvwivsqrx', 'fzgerno', 'g', 'geihjcobq', 'gjogmwivzf', 'gs', 'guixnehwkg', 'iaen', 'ihjp', 'irmyoj', 'iucgn', 'jdvgd', 'kyewtvlxd', 'lbb', 'lhncrj', 'lk', 'lpuxps', 'lvvoxlb', 'ncifed', 'nigffcoeza', 'nisechbr', 'nryjikfm', 'nxayz', 'obal', 'oj', 'ovfmxpip', 'pgh', 'pvflv', 'q', 'qf', 'qkewjbcv', 'qrjnzggp', 'qurf', 'qxmlovkg', 'rcuaz', 'rfj', 'rw', 'rztmcqtbfc', 's', 'smwr', 'spmc', 'sqkutpr', 'tbhsgabsbd', 'thkhvrzmg', 'u', 'u', 'uwt', 'uxebkod', 'v', 'vpdjgl', 'vvwddofg', 'vy', 'wgrsgmaj', 'wlk', 'wnc', 'x', 'xkb', 'y', 'yr', 'yruhkg', 'yttx', 'yxoxwktesr', 'z', 'z', 'zeqcof', 'zsvrfoxva']\n"
     ]
    }
   ],
   "source": [
    "def bubbleSort(array):\n",
    "    for i in range(len(array)):\n",
    "        swapped = False\n",
    "        for j in range(0, len(array) - i - 1):\n",
    "            if array[j] > array[j + 1]:\n",
    "                temp = array[j]\n",
    "                array[j] = array[j+1]\n",
    "                array[j+1] = temp\n",
    "                \n",
    "                swapped = True\n",
    "\n",
    "        if not swapped:\n",
    "            break\n",
    "    return array\n",
    "\n",
    "sorted_text = bubbleSort(text.split())\n",
    "print(sorted_text)"
   ]
  },
  {
   "cell_type": "code",
   "execution_count": 122,
   "id": "ca870ed1",
   "metadata": {},
   "outputs": [
    {
     "name": "stdout",
     "output_type": "stream",
     "text": [
      "['a', 'aafy', 'aelbtzfv', 'cbbb', 'cdvpjkypcw', 'chjfthf', 'cjygo', 'cqsqs', 'csensj', 'cubsiqvv', 'd', 'dkjejg', 'duosmq', 'e', 'e', 'f', 'fhnpzjx', 'fijril', 'fjtrdtvcs', 'fxvwivsqrx', 'fzgerno', 'g', 'geihjcobq', 'gjogmwivzf', 'gs', 'guixnehwkg', 'iaen', 'ihjp', 'irmyoj', 'iucgn', 'jdvgd', 'kyewtvlxd', 'lbb', 'lhncrj', 'lk', 'lpuxps', 'lvvoxlb', 'ncifed', 'nigffcoeza', 'nisechbr', 'nryjikfm', 'nxayz', 'obal', 'oj', 'ovfmxpip', 'pgh', 'pvflv', 'q', 'qf', 'qkewjbcv', 'qrjnzggp', 'qurf', 'qxmlovkg', 'rcuaz', 'rfj', 'rw', 'rztmcqtbfc', 's', 'smwr', 'spmc', 'sqkutpr', 'tbhsgabsbd', 'thkhvrzmg', 'u', 'u', 'uwt', 'uxebkod', 'v', 'vpdjgl', 'vvwddofg', 'vy', 'wgrsgmaj', 'wlk', 'wnc', 'x', 'xkb', 'y', 'yr', 'yruhkg', 'yttx', 'yxoxwktesr', 'z', 'z', 'zeqcof', 'zsvrfoxva']\n"
     ]
    }
   ],
   "source": [
    "def quick_sort(mass):\n",
    "    if len(mass)<=1:\n",
    "        return mass\n",
    "    \n",
    "    elem = mass[0]\n",
    "    left = list(filter(lambda x: x < elem, mass))\n",
    "    center = list(filter(lambda x: x == elem, mass))\n",
    "    right = list(filter(lambda x: x > elem, mass))\n",
    "    \n",
    "    return quick_sort(left) + center + quick_sort(right)\n",
    "\n",
    "sorted_text = quick_sort(text.split())\n",
    "print(sorted_text)"
   ]
  },
  {
   "cell_type": "markdown",
   "id": "37ed3735",
   "metadata": {},
   "source": [
    "# 2 задание"
   ]
  },
  {
   "cell_type": "code",
   "execution_count": 45,
   "id": "6fb7e03b",
   "metadata": {},
   "outputs": [],
   "source": [
    "def count_words(mass):\n",
    "    dir_words = {}\n",
    "    \n",
    "    for word in mass:\n",
    "        if word in dir_words:\n",
    "            dir_words[word] +=1\n",
    "        else:\n",
    "            dir_words[word] = 1\n",
    "    return dir_words"
   ]
  },
  {
   "cell_type": "code",
   "execution_count": 46,
   "id": "e68b73eb",
   "metadata": {},
   "outputs": [
    {
     "name": "stdout",
     "output_type": "stream",
     "text": [
      "{'2009': 1, 'Alpha': 1, 'American': 1, 'Avatar': 1, 'Cameron,': 1, 'Centauri': 1, 'David': 1, 'Giovanni': 1, 'James': 1, 'Joel': 1, 'Lang,': 1, 'Michelle': 1, 'Moore,': 1, \"Na'vi-human\": 1, 'Navi—a': 1, 'Pandora,': 1, 'Pandora.': 2, 'Ribisi': 1, 'Rodriguez,': 1, 'Saldana,': 1, 'Sam': 1, 'Sigourney': 1, 'Stephen': 1, 'The': 3, 'Weaver.': 1, 'Worthington,': 1, 'Zoe': 1, 'a': 6, 'and': 3, 'are': 1, 'bodies': 1, 'by': 2, 'called': 1, 'century,': 1, 'colony': 1, 'continued': 1, 'directed': 1, 'engineered': 1, 'epic': 1, 'existence': 1, 'expansion': 1, 'fiction': 1, 'film': 2, 'films': 1, 'gas': 1, 'genetically': 1, 'giant': 1, 'humanoid': 1, 'humans': 1, 'hybrid': 1, 'in': 2, 'indigenous': 1, 'interact': 1, 'is': 2, 'local': 1, 'lush': 1, 'mid-22nd': 1, 'mineral': 1, 'mining': 2, 'moon': 1, 'natives': 1, 'of': 6, 'on': 1, 'precious': 1, 'refers': 1, 'researchers': 1, 'science': 1, 'set': 1, 'species': 1, 'star': 1, 'starring': 1, 'system.': 1, 'team': 1, 'the': 6, 'threatens': 1, 'title': 1, 'to': 3, 'tribe': 1, 'unobtanium': 1, 'used': 1, 'when': 1, 'with': 1, 'written': 1}\n"
     ]
    }
   ],
   "source": [
    "dir_words = count_words(text_eng)\n",
    "print(dir_words)"
   ]
  },
  {
   "cell_type": "markdown",
   "id": "7cc15e13",
   "metadata": {},
   "source": [
    "# 3 задание"
   ]
  },
  {
   "cell_type": "code",
   "execution_count": 2,
   "id": "1dd2ca01",
   "metadata": {},
   "outputs": [],
   "source": [
    "def bubbleSort(array):\n",
    "    for i in range(len(array)):\n",
    "        swapped = False\n",
    "        for j in range(0, len(array) - i - 1):\n",
    "            if array[j] > array[j + 1]:\n",
    "                temp = array[j]\n",
    "                array[j] = array[j+1]\n",
    "                array[j+1] = temp\n",
    "                \n",
    "                swapped = True\n",
    "\n",
    "        if not swapped:\n",
    "            break"
   ]
  },
  {
   "cell_type": "code",
   "execution_count": 1,
   "id": "619e969b",
   "metadata": {},
   "outputs": [],
   "source": [
    "def quick_sort(mass):\n",
    "    if len(mass)<=1:\n",
    "        return mass\n",
    "    \n",
    "    elem = mass[0]\n",
    "    left = list(filter(lambda x: x < elem, mass))\n",
    "    center = list(filter(lambda x: x == elem, mass))\n",
    "    right = list(filter(lambda x: x > elem, mass))\n",
    "    \n",
    "    return quick_sort(left) + center + quick_sort(right)"
   ]
  },
  {
   "cell_type": "markdown",
   "id": "2ccfb08a",
   "metadata": {},
   "source": [
    "# 4 задание"
   ]
  },
  {
   "cell_type": "code",
   "execution_count": 124,
   "id": "292d0a19",
   "metadata": {},
   "outputs": [],
   "source": [
    "import pandas as pd"
   ]
  },
  {
   "cell_type": "code",
   "execution_count": 137,
   "id": "46c11c85",
   "metadata": {},
   "outputs": [
    {
     "data": {
      "text/html": [
       "<div>\n",
       "<style scoped>\n",
       "    .dataframe tbody tr th:only-of-type {\n",
       "        vertical-align: middle;\n",
       "    }\n",
       "\n",
       "    .dataframe tbody tr th {\n",
       "        vertical-align: top;\n",
       "    }\n",
       "\n",
       "    .dataframe thead th {\n",
       "        text-align: right;\n",
       "    }\n",
       "</style>\n",
       "<table border=\"1\" class=\"dataframe\">\n",
       "  <thead>\n",
       "    <tr style=\"text-align: right;\">\n",
       "      <th></th>\n",
       "      <th>Количесво слов</th>\n",
       "      <th>Время работы bubbleSort</th>\n",
       "      <th>Время работы quick_sort</th>\n",
       "    </tr>\n",
       "  </thead>\n",
       "  <tbody>\n",
       "  </tbody>\n",
       "</table>\n",
       "</div>"
      ],
      "text/plain": [
       "Empty DataFrame\n",
       "Columns: [Количесво слов, Время работы bubbleSort, Время работы quick_sort]\n",
       "Index: []"
      ]
     },
     "execution_count": 137,
     "metadata": {},
     "output_type": "execute_result"
    }
   ],
   "source": [
    "df = pd.DataFrame(columns=[\"Количесво слов\",\n",
    "                           \"Время работы bubbleSort\",\n",
    "                           \"Время работы quick_sort\"])\n",
    "\n",
    "df"
   ]
  },
  {
   "cell_type": "code",
   "execution_count": 135,
   "id": "ce06f8a9",
   "metadata": {},
   "outputs": [],
   "source": [
    "counts_words = [100, 500, 1000, 2000, 2500]"
   ]
  },
  {
   "cell_type": "code",
   "execution_count": 144,
   "id": "61e9c541",
   "metadata": {},
   "outputs": [
    {
     "name": "stdout",
     "output_type": "stream",
     "text": [
      "2.67 ms ± 353 µs per loop (mean ± std. dev. of 7 runs, 100 loops each)\n",
      "34.4 ms ± 712 µs per loop (mean ± std. dev. of 7 runs, 10 loops each)\n",
      "130 ms ± 2.38 ms per loop (mean ± std. dev. of 7 runs, 10 loops each)\n",
      "511 ms ± 14.2 ms per loop (mean ± std. dev. of 7 runs, 1 loop each)\n",
      "801 ms ± 27 ms per loop (mean ± std. dev. of 7 runs, 1 loop each)\n"
     ]
    },
    {
     "data": {
      "text/html": [
       "<div>\n",
       "<style scoped>\n",
       "    .dataframe tbody tr th:only-of-type {\n",
       "        vertical-align: middle;\n",
       "    }\n",
       "\n",
       "    .dataframe tbody tr th {\n",
       "        vertical-align: top;\n",
       "    }\n",
       "\n",
       "    .dataframe thead th {\n",
       "        text-align: right;\n",
       "    }\n",
       "</style>\n",
       "<table border=\"1\" class=\"dataframe\">\n",
       "  <thead>\n",
       "    <tr style=\"text-align: right;\">\n",
       "      <th></th>\n",
       "      <th>Количесво слов</th>\n",
       "      <th>Время работы bubbleSort</th>\n",
       "      <th>Время работы quick_sort</th>\n",
       "    </tr>\n",
       "  </thead>\n",
       "  <tbody>\n",
       "    <tr>\n",
       "      <th>0</th>\n",
       "      <td>100</td>\n",
       "      <td>0.003</td>\n",
       "      <td>0.001761</td>\n",
       "    </tr>\n",
       "    <tr>\n",
       "      <th>1</th>\n",
       "      <td>500</td>\n",
       "      <td>0.034</td>\n",
       "      <td>0.009638</td>\n",
       "    </tr>\n",
       "    <tr>\n",
       "      <th>2</th>\n",
       "      <td>1000</td>\n",
       "      <td>0.13</td>\n",
       "      <td>0.01922</td>\n",
       "    </tr>\n",
       "    <tr>\n",
       "      <th>3</th>\n",
       "      <td>2000</td>\n",
       "      <td>0.511</td>\n",
       "      <td>0.039048</td>\n",
       "    </tr>\n",
       "    <tr>\n",
       "      <th>4</th>\n",
       "      <td>2500</td>\n",
       "      <td>0.801</td>\n",
       "      <td>0.049542</td>\n",
       "    </tr>\n",
       "  </tbody>\n",
       "</table>\n",
       "</div>"
      ],
      "text/plain": [
       "  Количесво слов Время работы bubbleSort Время работы quick_sort\n",
       "0            100                   0.003                0.001761\n",
       "1            500                   0.034                0.009638\n",
       "2           1000                    0.13                 0.01922\n",
       "3           2000                   0.511                0.039048\n",
       "4           2500                   0.801                0.049542"
      ]
     },
     "execution_count": 144,
     "metadata": {},
     "output_type": "execute_result"
    }
   ],
   "source": [
    "i = 0\n",
    "for count in counts_words:\n",
    "    result_time = %timeit -o bubbleSort(create_text(count).split())\n",
    "    df.loc[i,'Количесво слов'] = count\n",
    "    df.loc[i,'Время работы bubbleSort'] = round(result_time.average, 3)\n",
    "    i += 1\n",
    "df"
   ]
  },
  {
   "cell_type": "code",
   "execution_count": 145,
   "id": "f3d235d9",
   "metadata": {},
   "outputs": [
    {
     "name": "stdout",
     "output_type": "stream",
     "text": [
      "1.72 ms ± 13.2 µs per loop (mean ± std. dev. of 7 runs, 1000 loops each)\n",
      "9.6 ms ± 612 µs per loop (mean ± std. dev. of 7 runs, 100 loops each)\n",
      "19.1 ms ± 311 µs per loop (mean ± std. dev. of 7 runs, 100 loops each)\n",
      "38.4 ms ± 335 µs per loop (mean ± std. dev. of 7 runs, 10 loops each)\n",
      "48.7 ms ± 906 µs per loop (mean ± std. dev. of 7 runs, 10 loops each)\n"
     ]
    },
    {
     "data": {
      "text/html": [
       "<div>\n",
       "<style scoped>\n",
       "    .dataframe tbody tr th:only-of-type {\n",
       "        vertical-align: middle;\n",
       "    }\n",
       "\n",
       "    .dataframe tbody tr th {\n",
       "        vertical-align: top;\n",
       "    }\n",
       "\n",
       "    .dataframe thead th {\n",
       "        text-align: right;\n",
       "    }\n",
       "</style>\n",
       "<table border=\"1\" class=\"dataframe\">\n",
       "  <thead>\n",
       "    <tr style=\"text-align: right;\">\n",
       "      <th></th>\n",
       "      <th>Количесво слов</th>\n",
       "      <th>Время работы bubbleSort</th>\n",
       "      <th>Время работы quick_sort</th>\n",
       "    </tr>\n",
       "  </thead>\n",
       "  <tbody>\n",
       "    <tr>\n",
       "      <th>0</th>\n",
       "      <td>100</td>\n",
       "      <td>0.003</td>\n",
       "      <td>0.002</td>\n",
       "    </tr>\n",
       "    <tr>\n",
       "      <th>1</th>\n",
       "      <td>500</td>\n",
       "      <td>0.034</td>\n",
       "      <td>0.01</td>\n",
       "    </tr>\n",
       "    <tr>\n",
       "      <th>2</th>\n",
       "      <td>1000</td>\n",
       "      <td>0.13</td>\n",
       "      <td>0.019</td>\n",
       "    </tr>\n",
       "    <tr>\n",
       "      <th>3</th>\n",
       "      <td>2000</td>\n",
       "      <td>0.511</td>\n",
       "      <td>0.038</td>\n",
       "    </tr>\n",
       "    <tr>\n",
       "      <th>4</th>\n",
       "      <td>2500</td>\n",
       "      <td>0.801</td>\n",
       "      <td>0.049</td>\n",
       "    </tr>\n",
       "  </tbody>\n",
       "</table>\n",
       "</div>"
      ],
      "text/plain": [
       "  Количесво слов Время работы bubbleSort Время работы quick_sort\n",
       "0            100                   0.003                   0.002\n",
       "1            500                   0.034                    0.01\n",
       "2           1000                    0.13                   0.019\n",
       "3           2000                   0.511                   0.038\n",
       "4           2500                   0.801                   0.049"
      ]
     },
     "execution_count": 145,
     "metadata": {},
     "output_type": "execute_result"
    }
   ],
   "source": [
    "i = 0\n",
    "for count in counts_words:\n",
    "    result_time = %timeit -o quick_sort(create_text(count).split())\n",
    "    df.loc[i,'Количесво слов'] = count\n",
    "    df.loc[i,'Время работы quick_sort'] = round(result_time.average, 3)\n",
    "    i += 1\n",
    "df"
   ]
  },
  {
   "cell_type": "code",
   "execution_count": null,
   "id": "e7bc8da3",
   "metadata": {},
   "outputs": [],
   "source": []
  },
  {
   "cell_type": "code",
   "execution_count": null,
   "id": "2a4fe6a3",
   "metadata": {},
   "outputs": [],
   "source": []
  },
  {
   "cell_type": "code",
   "execution_count": null,
   "id": "a36b08ae",
   "metadata": {},
   "outputs": [],
   "source": []
  }
 ],
 "metadata": {
  "kernelspec": {
   "display_name": "Python 3 (ipykernel)",
   "language": "python",
   "name": "python3"
  },
  "language_info": {
   "codemirror_mode": {
    "name": "ipython",
    "version": 3
   },
   "file_extension": ".py",
   "mimetype": "text/x-python",
   "name": "python",
   "nbconvert_exporter": "python",
   "pygments_lexer": "ipython3",
   "version": "3.9.7"
  }
 },
 "nbformat": 4,
 "nbformat_minor": 5
}
